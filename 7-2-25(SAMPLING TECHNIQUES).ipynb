{
 "cells": [
  {
   "cell_type": "code",
   "execution_count": 3,
   "id": "69e11f4d",
   "metadata": {},
   "outputs": [
    {
     "name": "stdout",
     "output_type": "stream",
     "text": [
      "    Age  Income Class\n",
      "0    22    2000  High\n",
      "1    25    2500   Low\n",
      "2    27    2700   Low\n",
      "3    28    3200  High\n",
      "4    30    3500  High\n",
      "5    35    3800   Low\n",
      "6    40    4000  High\n",
      "7    45    4200  High\n",
      "8    50    4300   Low\n",
      "9    55    4500   Low\n",
      "10   60    5000  High\n",
      "11   65    5500  High\n",
      "12   70    6000   Low\n"
     ]
    }
   ],
   "source": [
    "import pandas as pd\n",
    "from sklearn.utils import resample\n",
    "df=pd.DataFrame({\n",
    "    'Age':[22,25,27,28,30,35,40,45,50,55,60,65,70],\n",
    "    'Income':[2000,2500,2700,3200,3500,3800,4000,4200,4300,4500,5000,5500,6000],\n",
    "    'Class':['High','Low','Low','High','High','Low','High','High','Low','Low','High','High','Low']\n",
    "})\n",
    "print(df)"
   ]
  },
  {
   "cell_type": "code",
   "execution_count": 7,
   "id": "ea377041",
   "metadata": {},
   "outputs": [
    {
     "name": "stdout",
     "output_type": "stream",
     "text": [
      "    Age  Income Class\n",
      "0    22    2000  High\n",
      "3    28    3200  High\n",
      "4    30    3500  High\n",
      "6    40    4000  High\n",
      "7    45    4200  High\n",
      "10   60    5000  High\n",
      "11   65    5500  High\n",
      "    Age  Income Class\n",
      "1    25    2500   Low\n",
      "2    27    2700   Low\n",
      "5    35    3800   Low\n",
      "8    50    4300   Low\n",
      "9    55    4500   Low\n",
      "12   70    6000   Low\n",
      "Class\n",
      "High    6\n",
      "Low     6\n",
      "Name: count, dtype: int64\n"
     ]
    }
   ],
   "source": [
    "#separate majority and minority classes\n",
    "df_high=df[df['Class']=='High']\n",
    "df_low =df[df['Class']=='Low']\n",
    "print(df_high)\n",
    "print(df_low)\n",
    "#Downsample majority class\n",
    "df_high_downsampled = resample(df_high,replace=False,n_samples=len(df_low),random_state=42)\n",
    "#combine downsampled majority calss\n",
    "df_balanced=pd.concat([df_high_downsampled,df_low])\n",
    "print(df_balanced['Class'].value_counts())\n"
   ]
  },
  {
   "cell_type": "markdown",
   "id": "1fb45dae",
   "metadata": {},
   "source": [
    "**upsampling the minority class**\n",
    "lets use a dataset with a binary classification task where the minority class has fewer instances than the Majority class \n",
    "and well perform upsampling on the minority class"
   ]
  },
  {
   "cell_type": "code",
   "execution_count": 8,
   "id": "2e7b9b3d",
   "metadata": {},
   "outputs": [
    {
     "name": "stdout",
     "output_type": "stream",
     "text": [
      "    Age  Income     Class\n",
      "0    22    2000  Minority\n",
      "1    25    2500  Majority\n",
      "2    27    2700  Majority\n",
      "3    28    3200  Majority\n",
      "4    30    3500  Majority\n",
      "5    35    3800  Minority\n",
      "6    40    4000  Minority\n",
      "7    45    4200  Minority\n",
      "8    50    4300  Majority\n",
      "9    55    4500  Majority\n",
      "10   60    5000  Majority\n",
      "11   65    5500  Majority\n",
      "12   70    6000  Majority\n"
     ]
    }
   ],
   "source": [
    "import pandas as pd\n",
    "from sklearn.utils import resample\n",
    "df=pd.DataFrame({\n",
    "    'Age':[22,25,27,28,30,35,40,45,50,55,60,65,70],\n",
    "    'Income':[2000,2500,2700,3200,3500,3800,4000,4200,4300,4500,5000,5500,6000],\n",
    "    'Class':['Minority','Majority','Majority','Majority','Majority','Minority','Minority','Minority','Majority','Majority','Majority','Majority','Majority']\n",
    "})\n",
    "print(df)"
   ]
  },
  {
   "cell_type": "code",
   "execution_count": 13,
   "id": "0c1a323e",
   "metadata": {},
   "outputs": [
    {
     "name": "stdout",
     "output_type": "stream",
     "text": [
      "    Age  Income     Class\n",
      "1    25    2500  Majority\n",
      "2    27    2700  Majority\n",
      "3    28    3200  Majority\n",
      "4    30    3500  Majority\n",
      "8    50    4300  Majority\n",
      "9    55    4500  Majority\n",
      "10   60    5000  Majority\n",
      "11   65    5500  Majority\n",
      "12   70    6000  Majority\n",
      "   Age  Income     Class\n",
      "0   22    2000  Minority\n",
      "5   35    3800  Minority\n",
      "6   40    4000  Minority\n",
      "7   45    4200  Minority\n",
      "Class\n",
      "Minority    9\n",
      "Majority    9\n",
      "Name: count, dtype: int64\n"
     ]
    }
   ],
   "source": [
    "#separate majority and minority classes\n",
    "df_major=df[df['Class']=='Majority']\n",
    "df_minor=df[df['Class']=='Minority']\n",
    "print(df_high)\n",
    "print(df_low)\n",
    "#Downsample majority class\n",
    "df_high_downsampled = resample(df_minor,replace=True,n_samples=len(df_major),random_state=42)\n",
    "#combine downsampled majority calss\n",
    "df_balanced=pd.concat([df_high_downsampled,df_major])\n",
    "print(df_balanced['Class'].value_counts())\n"
   ]
  },
  {
   "cell_type": "code",
   "execution_count": 15,
   "id": "8e17415d",
   "metadata": {},
   "outputs": [
    {
     "name": "stdout",
     "output_type": "stream",
     "text": [
      "Requirement already satisfied: imbalanced-learn in c:\\users\\cvr\\anaconda3\\lib\\site-packages (0.10.1)\n",
      "Requirement already satisfied: numpy>=1.17.3 in c:\\users\\cvr\\anaconda3\\lib\\site-packages (from imbalanced-learn) (1.24.3)\n",
      "Requirement already satisfied: scipy>=1.3.2 in c:\\users\\cvr\\anaconda3\\lib\\site-packages (from imbalanced-learn) (1.11.1)\n",
      "Requirement already satisfied: scikit-learn>=1.0.2 in c:\\users\\cvr\\anaconda3\\lib\\site-packages (from imbalanced-learn) (1.3.0)\n",
      "Requirement already satisfied: joblib>=1.1.1 in c:\\users\\cvr\\anaconda3\\lib\\site-packages (from imbalanced-learn) (1.2.0)\n",
      "Requirement already satisfied: threadpoolctl>=2.0.0 in c:\\users\\cvr\\anaconda3\\lib\\site-packages (from imbalanced-learn) (2.2.0)\n",
      "Note: you may need to restart the kernel to use updated packages.\n"
     ]
    }
   ],
   "source": [
    "pip install imbalanced-learn"
   ]
  },
  {
   "cell_type": "code",
   "execution_count": null,
   "id": "63bcae48",
   "metadata": {},
   "outputs": [],
   "source": [
    "\n",
    "1. SMOTE to generate synthetic samples instead of duplicating existing ones\n",
    "2. Convert categorical class labels into numeric form for SMTE to work\n",
    "3. Apply SMOTE to balance the dataset \n",
    "4. convert back to original categorical labels\n",
    "5. combine the resampled data into a final balanced dataset"
   ]
  },
  {
   "cell_type": "code",
   "execution_count": 22,
   "id": "fe613c4c",
   "metadata": {},
   "outputs": [
    {
     "name": "stdout",
     "output_type": "stream",
     "text": [
      "Requirement already satisfied: scikit-learn in c:\\users\\cvr\\anaconda3\\lib\\site-packages (1.3.0)\n",
      "Collecting scikit-learn\n",
      "  Obtaining dependency information for scikit-learn from https://files.pythonhosted.org/packages/a1/a6/c5b78606743a1f28eae8f11973de6613a5ee87366796583fb74c67d54939/scikit_learn-1.6.1-cp311-cp311-win_amd64.whl.metadata\n",
      "  Downloading scikit_learn-1.6.1-cp311-cp311-win_amd64.whl.metadata (15 kB)\n",
      "Requirement already satisfied: imbalanced-learn in c:\\users\\cvr\\anaconda3\\lib\\site-packages (0.10.1)\n",
      "Collecting imbalanced-learn\n",
      "  Obtaining dependency information for imbalanced-learn from https://files.pythonhosted.org/packages/9d/41/721fec82606242a2072ee909086ff918dfad7d0199a9dfd4928df9c72494/imbalanced_learn-0.13.0-py3-none-any.whl.metadata\n",
      "  Downloading imbalanced_learn-0.13.0-py3-none-any.whl.metadata (8.8 kB)\n",
      "Requirement already satisfied: numpy>=1.19.5 in c:\\users\\cvr\\anaconda3\\lib\\site-packages (from scikit-learn) (1.24.3)\n",
      "Requirement already satisfied: scipy>=1.6.0 in c:\\users\\cvr\\anaconda3\\lib\\site-packages (from scikit-learn) (1.11.1)\n",
      "Requirement already satisfied: joblib>=1.2.0 in c:\\users\\cvr\\anaconda3\\lib\\site-packages (from scikit-learn) (1.2.0)\n",
      "Collecting threadpoolctl>=3.1.0 (from scikit-learn)\n",
      "  Obtaining dependency information for threadpoolctl>=3.1.0 from https://files.pythonhosted.org/packages/4b/2c/ffbf7a134b9ab11a67b0cf0726453cedd9c5043a4fe7a35d1cefa9a1bcfb/threadpoolctl-3.5.0-py3-none-any.whl.metadata\n",
      "  Downloading threadpoolctl-3.5.0-py3-none-any.whl.metadata (13 kB)\n",
      "Collecting sklearn-compat<1,>=0.1 (from imbalanced-learn)\n",
      "  Obtaining dependency information for sklearn-compat<1,>=0.1 from https://files.pythonhosted.org/packages/f0/a8/ad69cf130fbd017660cdd64abbef3f28135d9e2e15fe3002e03c5be0ca38/sklearn_compat-0.1.3-py3-none-any.whl.metadata\n",
      "  Downloading sklearn_compat-0.1.3-py3-none-any.whl.metadata (18 kB)\n",
      "Downloading scikit_learn-1.6.1-cp311-cp311-win_amd64.whl (11.1 MB)\n",
      "   ---------------------------------------- 0.0/11.1 MB ? eta -:--:--\n",
      "   ---------------------------------------- 0.0/11.1 MB 2.0 MB/s eta 0:00:06\n",
      "    --------------------------------------- 0.1/11.1 MB 1.7 MB/s eta 0:00:07\n",
      "   - -------------------------------------- 0.4/11.1 MB 3.2 MB/s eta 0:00:04\n",
      "   --- ------------------------------------ 1.0/11.1 MB 5.9 MB/s eta 0:00:02\n",
      "   --------- ------------------------------ 2.6/11.1 MB 11.9 MB/s eta 0:00:01\n",
      "   --------- ------------------------------ 2.6/11.1 MB 11.9 MB/s eta 0:00:01\n",
      "   --------- ------------------------------ 2.6/11.1 MB 11.9 MB/s eta 0:00:01\n",
      "   --------- ------------------------------ 2.6/11.1 MB 11.9 MB/s eta 0:00:01\n",
      "   --------- ------------------------------ 2.6/11.1 MB 11.9 MB/s eta 0:00:01\n",
      "   --------- ------------------------------ 2.6/11.1 MB 11.9 MB/s eta 0:00:01\n",
      "   --------- ------------------------------ 2.6/11.1 MB 11.9 MB/s eta 0:00:01\n",
      "   --------- ------------------------------ 2.6/11.1 MB 11.9 MB/s eta 0:00:01\n",
      "   --------- ------------------------------ 2.6/11.1 MB 11.9 MB/s eta 0:00:01\n",
      "   --------- ------------------------------ 2.6/11.1 MB 11.9 MB/s eta 0:00:01\n",
      "   --------- ------------------------------ 2.6/11.1 MB 11.9 MB/s eta 0:00:01\n",
      "   --------- ------------------------------ 2.6/11.1 MB 11.9 MB/s eta 0:00:01\n",
      "   --------- ------------------------------ 2.6/11.1 MB 11.9 MB/s eta 0:00:01\n",
      "   --------- ------------------------------ 2.6/11.1 MB 11.9 MB/s eta 0:00:01\n",
      "   --------- ------------------------------ 2.6/11.1 MB 11.9 MB/s eta 0:00:01\n",
      "   --------- ------------------------------ 2.6/11.1 MB 11.9 MB/s eta 0:00:01\n",
      "   --------- ------------------------------ 2.6/11.1 MB 11.9 MB/s eta 0:00:01\n",
      "   --------- ------------------------------ 2.6/11.1 MB 11.9 MB/s eta 0:00:01\n",
      "   --------- ------------------------------ 2.6/11.1 MB 11.9 MB/s eta 0:00:01\n",
      "   --------- ------------------------------ 2.6/11.1 MB 11.9 MB/s eta 0:00:01\n",
      "   ------------------ --------------------- 5.2/11.1 MB 4.6 MB/s eta 0:00:02\n",
      "   ------------------ --------------------- 5.2/11.1 MB 4.6 MB/s eta 0:00:02\n",
      "   ------------------ --------------------- 5.2/11.1 MB 4.6 MB/s eta 0:00:02\n",
      "   ------------------ --------------------- 5.2/11.1 MB 4.6 MB/s eta 0:00:02\n",
      "   ------------------ --------------------- 5.2/11.1 MB 4.6 MB/s eta 0:00:02\n",
      "   ------------------ --------------------- 5.2/11.1 MB 4.6 MB/s eta 0:00:02\n",
      "   ------------------ --------------------- 5.2/11.1 MB 4.6 MB/s eta 0:00:02\n",
      "   ------------------ --------------------- 5.2/11.1 MB 4.6 MB/s eta 0:00:02\n",
      "   ------------------ --------------------- 5.2/11.1 MB 4.6 MB/s eta 0:00:02\n",
      "   ------------------ --------------------- 5.2/11.1 MB 4.6 MB/s eta 0:00:02\n",
      "   ------------------ --------------------- 5.2/11.1 MB 4.6 MB/s eta 0:00:02\n",
      "   ------------------ --------------------- 5.2/11.1 MB 4.6 MB/s eta 0:00:02\n",
      "   ------------------ --------------------- 5.2/11.1 MB 4.6 MB/s eta 0:00:02\n",
      "   ------------------ --------------------- 5.2/11.1 MB 4.6 MB/s eta 0:00:02\n",
      "   ------------------ --------------------- 5.2/11.1 MB 4.6 MB/s eta 0:00:02\n",
      "   ------------------ --------------------- 5.2/11.1 MB 4.6 MB/s eta 0:00:02\n",
      "   ------------------ --------------------- 5.2/11.1 MB 4.6 MB/s eta 0:00:02\n",
      "   ------------------ --------------------- 5.2/11.1 MB 4.6 MB/s eta 0:00:02\n",
      "   ------------------ --------------------- 5.2/11.1 MB 4.6 MB/s eta 0:00:02\n",
      "   --------------------- ------------------ 6.1/11.1 MB 3.0 MB/s eta 0:00:02\n",
      "   ---------------------------- ----------- 7.8/11.1 MB 3.8 MB/s eta 0:00:01\n",
      "   ---------------------------- ----------- 7.8/11.1 MB 3.8 MB/s eta 0:00:01\n",
      "   ---------------------------- ----------- 7.8/11.1 MB 3.8 MB/s eta 0:00:01\n",
      "   ---------------------------- ----------- 7.8/11.1 MB 3.8 MB/s eta 0:00:01\n",
      "   ---------------------------- ----------- 7.8/11.1 MB 3.8 MB/s eta 0:00:01\n",
      "   ---------------------------- ----------- 7.8/11.1 MB 3.8 MB/s eta 0:00:01\n",
      "   ---------------------------- ----------- 7.8/11.1 MB 3.8 MB/s eta 0:00:01\n",
      "   ---------------------------- ----------- 7.8/11.1 MB 3.8 MB/s eta 0:00:01\n",
      "   ---------------------------- ----------- 7.8/11.1 MB 3.8 MB/s eta 0:00:01\n",
      "   ---------------------------- ----------- 7.8/11.1 MB 3.8 MB/s eta 0:00:01\n",
      "   ---------------------------- ----------- 7.8/11.1 MB 3.8 MB/s eta 0:00:01\n",
      "   ---------------------------- ----------- 7.8/11.1 MB 3.8 MB/s eta 0:00:01\n",
      "   ---------------------------- ----------- 7.8/11.1 MB 3.8 MB/s eta 0:00:01\n",
      "   ---------------------------- ----------- 7.8/11.1 MB 3.8 MB/s eta 0:00:01\n",
      "   ---------------------------- ----------- 7.8/11.1 MB 3.8 MB/s eta 0:00:01\n",
      "   ---------------------------- ----------- 7.8/11.1 MB 3.8 MB/s eta 0:00:01\n",
      "   ---------------------------- ----------- 7.8/11.1 MB 3.8 MB/s eta 0:00:01\n",
      "   ---------------------------- ----------- 7.8/11.1 MB 3.8 MB/s eta 0:00:01\n",
      "   ---------------------------- ----------- 7.8/11.1 MB 3.8 MB/s eta 0:00:01\n",
      "   ---------------------------- ----------- 7.8/11.1 MB 3.8 MB/s eta 0:00:01\n",
      "   ---------------------------- ----------- 7.8/11.1 MB 3.8 MB/s eta 0:00:01\n",
      "   ---------------------------- ----------- 7.8/11.1 MB 3.8 MB/s eta 0:00:01\n",
      "   ---------------------------- ----------- 7.8/11.1 MB 3.8 MB/s eta 0:00:01\n",
      "   ---------------------------- ----------- 7.8/11.1 MB 3.8 MB/s eta 0:00:01\n",
      "   ---------------------------- ----------- 7.8/11.1 MB 3.8 MB/s eta 0:00:01\n",
      "   ---------------------------- ----------- 8.0/11.1 MB 2.5 MB/s eta 0:00:02\n",
      "   ----------------------------------- ---- 9.9/11.1 MB 3.0 MB/s eta 0:00:01\n",
      "   ----------------------------------- ---- 9.9/11.1 MB 3.0 MB/s eta 0:00:01\n",
      "   ----------------------------------- ---- 9.9/11.1 MB 3.0 MB/s eta 0:00:01\n",
      "   ----------------------------------- ---- 9.9/11.1 MB 3.0 MB/s eta 0:00:01\n",
      "   ----------------------------------- ---- 9.9/11.1 MB 3.0 MB/s eta 0:00:01\n",
      "   ----------------------------------- ---- 9.9/11.1 MB 3.0 MB/s eta 0:00:01\n",
      "   ----------------------------------- ---- 9.9/11.1 MB 3.0 MB/s eta 0:00:01\n",
      "   ----------------------------------- ---- 9.9/11.1 MB 3.0 MB/s eta 0:00:01\n",
      "   ----------------------------------- ---- 9.9/11.1 MB 3.0 MB/s eta 0:00:01\n",
      "   ----------------------------------- ---- 9.9/11.1 MB 3.0 MB/s eta 0:00:01\n",
      "   ----------------------------------- ---- 9.9/11.1 MB 3.0 MB/s eta 0:00:01\n",
      "   ----------------------------------- ---- 9.9/11.1 MB 3.0 MB/s eta 0:00:01\n",
      "   ----------------------------------- ---- 9.9/11.1 MB 3.0 MB/s eta 0:00:01\n",
      "   ----------------------------------- ---- 9.9/11.1 MB 3.0 MB/s eta 0:00:01\n",
      "   ----------------------------------- ---- 9.9/11.1 MB 3.0 MB/s eta 0:00:01\n",
      "   ----------------------------------- ---- 9.9/11.1 MB 3.0 MB/s eta 0:00:01\n",
      "   ----------------------------------- ---- 9.9/11.1 MB 3.0 MB/s eta 0:00:01\n",
      "   ----------------------------------- ---- 9.9/11.1 MB 3.0 MB/s eta 0:00:01\n",
      "   ----------------------------------- ---- 9.9/11.1 MB 3.0 MB/s eta 0:00:01\n",
      "   ---------------------------------------  11.1/11.1 MB 2.6 MB/s eta 0:00:01\n",
      "   ---------------------------------------- 11.1/11.1 MB 2.5 MB/s eta 0:00:00\n",
      "Downloading imbalanced_learn-0.13.0-py3-none-any.whl (238 kB)\n",
      "   ---------------------------------------- 0.0/238.4 kB ? eta -:--:--\n",
      "   ---------------------------------------- 238.4/238.4 kB ? eta 0:00:00\n",
      "Downloading sklearn_compat-0.1.3-py3-none-any.whl (18 kB)\n",
      "Downloading threadpoolctl-3.5.0-py3-none-any.whl (18 kB)\n",
      "Installing collected packages: threadpoolctl, scikit-learn, sklearn-compat, imbalanced-learn\n",
      "  Attempting uninstall: threadpoolctl\n",
      "    Found existing installation: threadpoolctl 2.2.0\n",
      "    Uninstalling threadpoolctl-2.2.0:\n",
      "      Successfully uninstalled threadpoolctl-2.2.0\n",
      "  Attempting uninstall: scikit-learn\n",
      "    Found existing installation: scikit-learn 1.3.0\n",
      "    Uninstalling scikit-learn-1.3.0:\n",
      "      Successfully uninstalled scikit-learn-1.3.0\n",
      "Note: you may need to restart the kernel to use updated packages.\n"
     ]
    },
    {
     "name": "stderr",
     "output_type": "stream",
     "text": [
      "ERROR: Could not install packages due to an OSError: [WinError 5] Access is denied: 'C:\\\\Users\\\\CVR\\\\anaconda3\\\\Lib\\\\site-packages\\\\~klearn\\\\decomposition\\\\_cdnmf_fast.cp311-win_amd64.pyd'\n",
      "Consider using the `--user` option or check the permissions.\n",
      "\n"
     ]
    }
   ],
   "source": [
    "pip install --upgrade scikit-learn imbalanced-learn\n"
   ]
  },
  {
   "cell_type": "code",
   "execution_count": 1,
   "id": "7df71bc8",
   "metadata": {},
   "outputs": [
    {
     "name": "stdout",
     "output_type": "stream",
     "text": [
      "Class\n",
      "Minority    9\n",
      "Majority    9\n",
      "Name: count, dtype: int64\n",
      "    Age  Income     Class\n",
      "0    22    2000  Minority\n",
      "1    25    2500  Majority\n",
      "2    27    2700  Majority\n",
      "3    28    3200  Majority\n",
      "4    30    3500  Majority\n",
      "5    35    3800  Minority\n",
      "6    40    4000  Minority\n",
      "7    45    4200  Minority\n",
      "8    50    4300  Majority\n",
      "9    55    4500  Majority\n",
      "10   60    5000  Majority\n",
      "11   65    5500  Majority\n",
      "12   70    6000  Majority\n",
      "13   40    4031  Minority\n",
      "14   35    3831  Minority\n",
      "15   44    4176  Minority\n",
      "16   35    3826  Minority\n",
      "17   41    4040  Minority\n"
     ]
    }
   ],
   "source": [
    "import pandas as pd\n",
    "from imblearn.over_sampling import SMOTE\n",
    "\n",
    "# Sample Data\n",
    "df = pd.DataFrame({\n",
    "    'Age': [22, 25, 27, 28, 30, 35, 40, 45, 50, 55, 60, 65, 70],\n",
    "    'Income': [2000, 2500, 2700, 3200, 3500, 3800, 4000, 4200, 4300, 4500, 5000, 5500, 6000],\n",
    "    'Class': ['Minority', 'Majority', 'Majority', 'Majority', 'Majority', 'Minority',\n",
    "              'Minority', 'Minority', 'Majority', 'Majority', 'Majority', 'Majority', 'Majority']\n",
    "})\n",
    "\n",
    "# Convert class labels to numerical values\n",
    "df['Class'] = df['Class'].map({'Majority': 0, 'Minority': 1})\n",
    "\n",
    "# Extract features and target\n",
    "x = df[['Age', 'Income']]\n",
    "y = df['Class']\n",
    "\n",
    "# Apply SMOTE\n",
    "smote = SMOTE(sampling_strategy='auto', random_state=42, k_neighbors=3)\n",
    "x_resampled, y_resampled = smote.fit_resample(x, y)\n",
    "\n",
    "# **Fix**: Convert y_resampled to a Pandas Series before mapping\n",
    "y_resampled = pd.Series(y_resampled).map({0: 'Majority', 1: 'Minority'})\n",
    "\n",
    "# Create new balanced DataFrame\n",
    "df_balanced = pd.concat([pd.DataFrame(x_resampled, columns=['Age', 'Income']),\n",
    "                         pd.DataFrame(y_resampled, columns=['Class'])], axis=1)\n",
    "\n",
    "# Print final results\n",
    "print(df_balanced['Class'].value_counts())  # Check if dataset is balanced\n",
    "print(df_balanced)\n"
   ]
  },
  {
   "cell_type": "code",
   "execution_count": null,
   "id": "c42ffbb7",
   "metadata": {},
   "outputs": [],
   "source": []
  }
 ],
 "metadata": {
  "kernelspec": {
   "display_name": "Python 3 (ipykernel)",
   "language": "python",
   "name": "python3"
  },
  "language_info": {
   "codemirror_mode": {
    "name": "ipython",
    "version": 3
   },
   "file_extension": ".py",
   "mimetype": "text/x-python",
   "name": "python",
   "nbconvert_exporter": "python",
   "pygments_lexer": "ipython3",
   "version": "3.11.5"
  }
 },
 "nbformat": 4,
 "nbformat_minor": 5
}
